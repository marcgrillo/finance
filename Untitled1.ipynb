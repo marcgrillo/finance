{
 "cells": [
  {
   "cell_type": "code",
   "execution_count": 1,
   "metadata": {},
   "outputs": [],
   "source": [
    "import http.client, urllib.request, urllib.parse, urllib.error, base64, re\n",
    "import numpy as np\n",
    "import time\n",
    "\n",
    "def history(a):\n",
    "\n",
    "    body = a[2:-4]\n",
    "    closeprice = []\n",
    "\n",
    "    for key in body:\n",
    "       if \"Close\" in key:\n",
    "           c = key.split(':')\n",
    "           close = float(re.findall('\\d+\\.\\d+', c[1] )[0])\n",
    "           closeprice.append(close) \n",
    "\n",
    "    return closeprice\n",
    "\n",
    "\n",
    "def updatebit(period,how_many,model):\n",
    "\n",
    "    conn = http.client.HTTPSConnection('candle.etoro.com')\n",
    "    # 480 is 480 periods of 1 hour, 100000 is Bitcoin\n",
    "    conn.request(\"GET\", \"/candles/asc.json/One\"+period+\"/\"+str(how_many)+\"/\"+str(model))\n",
    "    response = conn.getresponse()\n",
    "    data = response.read()\n",
    "    data=data.decode(\"utf-8\")\n",
    "    a = data.split(',')\n",
    "    closeprice = history(a)\n",
    "    closeprice2=closeprice[:len(closeprice)-1]\n",
    "    last=closeprice[len(closeprice)-1]\n",
    "\n",
    "    return closeprice2, last"
   ]
  },
  {
   "cell_type": "code",
   "execution_count": 2,
   "metadata": {},
   "outputs": [
    {
     "data": {
      "text/plain": [
       "1000"
      ]
     },
     "execution_count": 2,
     "metadata": {},
     "output_type": "execute_result"
    }
   ],
   "source": [
    "len(updatebit(\"Minute\",1001,100000)[0])"
   ]
  },
  {
   "cell_type": "code",
   "execution_count": 3,
   "metadata": {},
   "outputs": [
    {
     "ename": "SyntaxError",
     "evalue": "invalid syntax (<ipython-input-3-517d74394ef9>, line 4)",
     "output_type": "error",
     "traceback": [
      "\u001b[0;36m  File \u001b[0;32m\"<ipython-input-3-517d74394ef9>\"\u001b[0;36m, line \u001b[0;32m4\u001b[0m\n\u001b[0;31m    l_int=\u001b[0m\n\u001b[0m          ^\u001b[0m\n\u001b[0;31mSyntaxError\u001b[0m\u001b[0;31m:\u001b[0m invalid syntax\n"
     ]
    }
   ],
   "source": [
    "#SCELGO UN RANGE: VOGLIO ANALIZZARE DA 2 A 30 INTERVALLI DA 1 GIORNO\n",
    "#SCRIVO OGNI PERIODO IN UNA LISTA DI ARRAY\n",
    "#IL PERIODO PRESO E' SEMPRE L'ULTIMO DISPONIBILE\n",
    "l_int=\n",
    "rang=[2,30]\n",
    "num_int=rang[1]-rang[0]\n",
    "arr=[]\n",
    "for i in range(rang[0],rang[1]+1):\n",
    "    arr.append(closeprice[len(closeprice)-l_int*i:len(closeprice)])\n",
    "\n",
    "#DIVIDO IL PERIODO PIU GRANDE I DATI IN INTERVALLI DA 7 MINUTI PER INIZIALIZZARE IL CALCOLO DEI K\n",
    "#Nota che l'ultimo valore e' quello ignoto da stimare\n",
    "import numpy as np\n",
    "inte=l_int\n",
    "num_int_tot=30\n",
    "periodo_max=closeprice[len(closeprice)-inte*num_int_tot+1:len(closeprice)]\n",
    "mat=[]\n",
    "#print(len(periodo_max))\n",
    "for i in range(0,num_int_tot):\n",
    "    mat.append(periodo_max[i*inte:(i+1)*inte])\n",
    "    #print(len(mat[i]))\n",
    "#print(len(mat))"
   ]
  },
  {
   "cell_type": "code",
   "execution_count": 54,
   "metadata": {},
   "outputs": [
    {
     "data": {
      "text/plain": [
       "62139.36"
      ]
     },
     "execution_count": 54,
     "metadata": {},
     "output_type": "execute_result"
    }
   ],
   "source": [
    "updatebit(\"Day\",10,100000)[0][0]"
   ]
  },
  {
   "cell_type": "code",
   "execution_count": null,
   "metadata": {},
   "outputs": [],
   "source": []
  }
 ],
 "metadata": {
  "kernelspec": {
   "display_name": "Python 3",
   "language": "python",
   "name": "python3"
  },
  "language_info": {
   "codemirror_mode": {
    "name": "ipython",
    "version": 3
   },
   "file_extension": ".py",
   "mimetype": "text/x-python",
   "name": "python",
   "nbconvert_exporter": "python",
   "pygments_lexer": "ipython3",
   "version": "3.7.6"
  }
 },
 "nbformat": 4,
 "nbformat_minor": 5
}
