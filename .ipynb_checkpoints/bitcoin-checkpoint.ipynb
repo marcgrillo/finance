{
 "cells": [
  {
   "cell_type": "code",
   "execution_count": 5,
   "id": "respiratory-frequency",
   "metadata": {},
   "outputs": [],
   "source": [
    "#!/usr/bin/python\n",
    "########### Python 2.7 #############\n",
    "import http.client, urllib.request, urllib.parse, urllib.error, base64, re\n",
    "import matplotlib as mpl\n",
    "mpl.use('Agg')\n",
    "import matplotlib.pyplot as plt\n",
    "import numpy as np\n",
    "import time\n",
    "from matplotlib.ticker import MultipleLocator, FormatStrFormatter\n",
    "\n",
    "# major and minor plot seetings\n",
    "majorLocator = MultipleLocator(200)\n",
    "majorFormatter = FormatStrFormatter('%d')\n",
    "minorLocator = MultipleLocator(50)\n",
    "\n",
    "majoryLocator = MultipleLocator(10)\n",
    "majoryFormatter = FormatStrFormatter('%d')\n",
    "minoryLocator = MultipleLocator(2)\n",
    "\n",
    "majorXLocator = MultipleLocator(24)\n",
    "majorXFormatter = FormatStrFormatter('%d')\n",
    "minorXLocator = MultipleLocator(6)\n",
    "\n",
    "def history(a):\n",
    "    \n",
    "    body = a[2:-4]\n",
    "    closeprice = []\n",
    "\n",
    "    for key in body:\n",
    "       if \"Close\" in key:\n",
    "           c = key.split(':')\n",
    "           close = float(re.findall('\\d+\\.\\d+', c[1] )[0])\n",
    "           closeprice.append(close) \n",
    "\n",
    "    return closeprice\n",
    "\n",
    "def moving_average(x, n, type='simple'):\n",
    "    \"\"\"\n",
    "    compute an n period moving average.\n",
    "\n",
    "    type is 'simple' | 'exponential'\n",
    "\n",
    "    \"\"\"\n",
    "    x = np.asarray(x)\n",
    "    if type == 'simple':\n",
    "        weights = np.ones(n)\n",
    "    else:\n",
    "        weights = np.exp(np.linspace(-1., 0., n))\n",
    "\n",
    "    weights /= weights.sum()\n",
    "\n",
    "    a = np.convolve(x, weights, mode='full')[:len(x)]\n",
    "    a[:n] = a[n]\n",
    "    return a\n",
    "\n",
    "def plotcoin(closeprice):\n",
    "\n",
    "    # create Bitcoin plot\n",
    "    ema50 = moving_average(closeprice, 2, type='exponential')\n",
    "    fig, ax1 = plt.subplots()\n",
    "    ax1.plot(closeprice[-10:] , 'g-')\n",
    "    ax1.plot(ema50[-10:] , 'r-') \n",
    "    ax1.set_title('Bitcoin Price Etoro') \n",
    "    ax1.set_xlabel('Time (1 Hour)', color='k')\n",
    "    ax1.set_ylabel('Close price (USD)', color='k')\n",
    "    ax1.tick_params(colors='k')\n",
    "    ax1.grid(color='k', linestyle='-', linewidth=0.5)\n",
    "    ax1.yaxis.set_major_locator(majorLocator)\n",
    "    ax1.yaxis.set_major_formatter(majorFormatter)\n",
    "    ax1.yaxis.set_minor_locator(minorLocator)\n",
    "    ax1.xaxis.set_major_locator(majorXLocator)\n",
    "    ax1.xaxis.set_major_formatter(majorXFormatter)\n",
    "    ax1.xaxis.set_minor_locator(minorXLocator)\n",
    "    plt.savefig('bitcoin.png')   # save the figure to file\n",
    "    plt.close(fig)    # close the figure\n",
    "\n",
    "\n",
    "conn = http.client.HTTPSConnection('candle.etoro.com')\n",
    "# 480 is 480 periods of 1 hour, 100000 is Bitcoin\n",
    "conn.request(\"GET\", \"/candles/asc.json/OneMinute/1001/100000\")\n",
    "response = conn.getresponse()\n",
    "data = response.read()\n",
    "#print(type(data))\n",
    "data=data.decode(\"utf-8\")\n",
    "a = data.split(',')\n",
    "closeprice = history(a)\n",
    "#print(closeprice)\n",
    "#print(len(closeprice))\n",
    "conn.close()\n",
    "#plotcoin(closeprice)\n"
   ]
  },
  {
   "cell_type": "code",
   "execution_count": 6,
   "id": "skilled-spencer",
   "metadata": {},
   "outputs": [],
   "source": [
    "import numpy as np\n",
    "inte=10\n",
    "num_int=int(len(closeprice)/inte)\n",
    "mat=[]\n",
    "for i in range(0,num_int):\n",
    "    mat.append(closeprice[i*inte:(i+1)*inte+1])\n",
    "    \n",
    "#print(mat)"
   ]
  },
  {
   "cell_type": "code",
   "execution_count": 7,
   "id": "operating-camel",
   "metadata": {},
   "outputs": [],
   "source": [
    "media_k=[]\n",
    "for j in range(0,num_int):\n",
    "    mezzo=int((len(mat[j])-1)/2)\n",
    "    x0=mat[j][mezzo]\n",
    "    temp=[]\n",
    "    for i in range(1,mezzo+1):\n",
    "        temp.append((mat[j][mezzo+1]-mat[j][mezzo-i]))\n",
    "    media_k.append(np.mean(temp))"
   ]
  },
  {
   "cell_type": "code",
   "execution_count": 23,
   "id": "universal-treasurer",
   "metadata": {},
   "outputs": [
    {
     "name": "stdout",
     "output_type": "stream",
     "text": [
      "100\n"
     ]
    },
    {
     "data": {
      "text/plain": [
       "<matplotlib.legend.Legend at 0x7fca070ddeb0>"
      ]
     },
     "execution_count": 23,
     "metadata": {},
     "output_type": "execute_result"
    },
    {
     "data": {
      "image/png": "[encoded data removed]",
      "text/plain": [
       "<Figure size 720x360 with 1 Axes>"
      ]
     },
     "metadata": {
      "needs_background": "light"
     },
     "output_type": "display_data"
    }
   ],
   "source": [
    "import matplotlib.pyplot as plt\n",
    "%matplotlib inline\n",
    "print(len(media_k))\n",
    "nuova=[]\n",
    "for i in range(len(media_k)):\n",
    "    nuova.append(media_k[i]*(i+1))\n",
    "bins=40\n",
    "plt.figure(figsize=(10,5))\n",
    "plt.hist(nuova,bins,density=False, histtype='bar', label='momento '+str(1))\n",
    "plt.legend()\n",
    "#plt.show()"
   ]
  }
 ],
 "metadata": {
  "kernelspec": {
   "display_name": "Python 3",
   "language": "python",
   "name": "python3"
  },
  "language_info": {
   "codemirror_mode": {
    "name": "ipython",
    "version": 3
   },
   "file_extension": ".py",
   "mimetype": "text/x-python",
   "name": "python",
   "nbconvert_exporter": "python",
   "pygments_lexer": "ipython3",
   "version": "3.8.5"
  }
 },
 "nbformat": 4,
 "nbformat_minor": 5
}
