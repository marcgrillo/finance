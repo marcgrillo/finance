{
 "cells": [
  {
   "cell_type": "code",
   "execution_count": 214,
   "id": "going-player",
   "metadata": {},
   "outputs": [
    {
     "name": "stdout",
     "output_type": "stream",
     "text": [
      "[1.39408, 1.39337, 1.3935, 1.39373, 1.39358]\n",
      "1.39373\n"
     ]
    }
   ],
   "source": [
    "#!/usr/bin/python\n",
    "########### Python 2.7 #############\n",
    "import http.client, urllib.request, urllib.parse, urllib.error, base64, re\n",
    "import matplotlib as mpl\n",
    "mpl.use('Agg')\n",
    "import matplotlib.pyplot as plt\n",
    "import numpy as np\n",
    "import time\n",
    "from matplotlib.ticker import MultipleLocator, FormatStrFormatter\n",
    "\n",
    "# major and minor plot seetings\n",
    "majorLocator = MultipleLocator(200)\n",
    "majorFormatter = FormatStrFormatter('%d')\n",
    "minorLocator = MultipleLocator(50)\n",
    "\n",
    "majoryLocator = MultipleLocator(10)\n",
    "majoryFormatter = FormatStrFormatter('%d')\n",
    "minoryLocator = MultipleLocator(2)\n",
    "\n",
    "majorXLocator = MultipleLocator(24)\n",
    "majorXFormatter = FormatStrFormatter('%d')\n",
    "minorXLocator = MultipleLocator(6)\n",
    "\n",
    "def history(a):\n",
    "    \n",
    "    body = a[2:-4]\n",
    "    closeprice = []\n",
    "\n",
    "    for key in body:\n",
    "       if \"Close\" in key:\n",
    "           c = key.split(':')\n",
    "           close = float(re.findall('\\d+\\.\\d+', c[1] )[0])\n",
    "           closeprice.append(close) \n",
    "\n",
    "    return closeprice\n",
    "\n",
    "def moving_average(x, n, type='simple'):\n",
    "    \"\"\"\n",
    "    compute an n period moving average.\n",
    "\n",
    "    type is 'simple' | 'exponential'\n",
    "\n",
    "    \"\"\"\n",
    "    x = np.asarray(x)\n",
    "    if type == 'simple':\n",
    "        weights = np.ones(n)\n",
    "    else:\n",
    "        weights = np.exp(np.linspace(-1., 0., n))\n",
    "\n",
    "    weights /= weights.sum()\n",
    "\n",
    "    a = np.convolve(x, weights, mode='full')[:len(x)]\n",
    "    a[:n] = a[n]\n",
    "    return a\n",
    "\n",
    "def plotcoin(closeprice):\n",
    "\n",
    "    # create Bitcoin plot\n",
    "    ema50 = moving_average(closeprice, 2, type='exponential')\n",
    "    fig, ax1 = plt.subplots()\n",
    "    ax1.plot(closeprice[-10:] , 'g-')\n",
    "    ax1.plot(ema50[-10:] , 'r-') \n",
    "    ax1.set_title('Bitcoin Price Etoro') \n",
    "    ax1.set_xlabel('Time (1 Hour)', color='k')\n",
    "    ax1.set_ylabel('Close price (USD)', color='k')\n",
    "    ax1.tick_params(colors='k')\n",
    "    ax1.grid(color='k', linestyle='-', linewidth=0.5)\n",
    "    ax1.yaxis.set_major_locator(majorLocator)\n",
    "    ax1.yaxis.set_major_formatter(majorFormatter)\n",
    "    ax1.yaxis.set_minor_locator(minorLocator)\n",
    "    ax1.xaxis.set_major_locator(majorXLocator)\n",
    "    ax1.xaxis.set_major_formatter(majorXFormatter)\n",
    "    ax1.xaxis.set_minor_locator(minorXLocator)\n",
    "    plt.savefig('bitcoin.png')   # save the figure to file\n",
    "    plt.close(fig)    # close the figure\n",
    "\n",
    "\n",
    "conn = http.client.HTTPSConnection('candle.etoro.com')\n",
    "# 480 is 480 periods of 1 hour, 100000 is Bitcoin\n",
    "conn.request(\"GET\", \"/candles/asc.json/OneMinute/1001/2\")\n",
    "response = conn.getresponse()\n",
    "data = response.read()\n",
    "#print(type(data))\n",
    "data=data.decode(\"utf-8\")\n",
    "a = data.split(',')\n",
    "closeprice = history(a)\n",
    "#print(closeprice)\n",
    "#print(len(closeprice))\n",
    "closeprice=closeprice[0:len(closeprice)-1]\n",
    "print(closeprice[len(closeprice)-5:len(closeprice)])\n",
    "#print(len(closeprice))\n",
    "conn.close()\n",
    "#plotcoin(closeprice)\n",
    "print(closeprice[len(closeprice)-2])"
   ]
  },
  {
   "cell_type": "code",
   "execution_count": 203,
   "id": "transsexual-complaint",
   "metadata": {},
   "outputs": [],
   "source": [
    "#HO DECISO CHE FARO' PERIODI DI 7 MINUTI. DI QUESTI CALCOLERO' LA MEDIA DEI K E VOGLIO CHE QUESTA TENDA A UN VALORE\n",
    "\n",
    "#LA MEDIA DEI K E' FATTA SU UN NUMERO DI K ANCORA DA DEFINIRE: VA QUINDI DEFINITO LA LUNGHEZZA DEL PERIODO PIU' GRANDE:\n",
    "#LA LUNGHEZZA DI QUESTO PERIODO DETERMINA ANCHE IL VALORE A CUI TENDE LA MEDIA: \n",
    "    #UPDATE: il valore a cui tende la media è definito dal valore medio (pesato dando importanza quadratica al valore più ultimo)\n",
    "    #tra i valori di fit lineare ottenuti prendendo sempre un range maggiore di dati.\n",
    "    #La lunghezza del periodo piu grande la definisco come il piu grande che posso scegliere\n",
    "#QUESTO INFATTI DOVREBBE ESSERE IL TRAND LINEARE DEL PERIODO PIU' GRANDE\n",
    "\n",
    "#IDEA PER CALCOLARLO:\n",
    "#FARE UN GOF DI MODELLO LINEARE SU UN PERIODO DI DATI VARIABILE\n",
    "#PRENDERE QUELLO A CUI ASSOCIO IL PERIODO ED IL VALORE CENTRALE COL P-VALUE PAGGIORE\n",
    "\n",
    "#IL RANGE DI PERIODO TUTTAVIA LO ASSEGNO A PRIORI:\n",
    "#SECONDO ME POTREBBE ESSERE UNA BUONA IDEA SCEGLIERE DA 2 A 30 VOLTE IL PERIODO DI 7 MINUTI"
   ]
  },
  {
   "cell_type": "code",
   "execution_count": 208,
   "id": "surrounded-injection",
   "metadata": {},
   "outputs": [
    {
     "name": "stdout",
     "output_type": "stream",
     "text": [
      "209\n"
     ]
    }
   ],
   "source": [
    "#SCELGO UN RANGE: VOGLIO ANALIZZARE DA 2 A 30 INTERVALLI DA 7 MINUTI\n",
    "#SCRIVO OGNI PERIODO IN UNA LISTA DI ARRAY\n",
    "#IL PERIODO PRESO E' SEMPRE L'ULTIMO DISPONIBILE\n",
    "l_int=7\n",
    "rang=[2,30]\n",
    "num_int=rang[1]-rang[0]\n",
    "arr=[]\n",
    "for i in range(rang[0],rang[1]+1):\n",
    "    arr.append(closeprice[len(closeprice)-l_int*i:len(closeprice)])\n",
    "\n",
    "#DIVIDO IL PERIODO PIU GRANDE I DATI IN INTERVALLI DA 7 MINUTI PER INIZIALIZZARE IL CALCOLO DEI K\n",
    "#Nota che l'ultimo valore e' quello ignoto da stimare\n",
    "import numpy as np\n",
    "inte=l_int\n",
    "num_int_tot=30\n",
    "periodo_max=closeprice[len(closeprice)-inte*num_int_tot+1:len(closeprice)]\n",
    "mat=[]\n",
    "#print(len(periodo_max))\n",
    "for i in range(0,num_int_tot):\n",
    "    mat.append(periodo_max[i*inte:(i+1)*inte])\n",
    "    #print(len(mat[i]))\n",
    "#print(len(mat))"
   ]
  },
  {
   "cell_type": "code",
   "execution_count": 205,
   "id": "increased-storage",
   "metadata": {},
   "outputs": [
    {
     "name": "stdout",
     "output_type": "stream",
     "text": [
      "-1.4969980429315697e-06\n"
     ]
    },
    {
     "data": {
      "image/png": "[encoded data removed]",
      "text/plain": [
       "<Figure size 864x576 with 1 Axes>"
      ]
     },
     "metadata": {
      "needs_background": "light"
     },
     "output_type": "display_data"
    }
   ],
   "source": [
    "#SCRIVO IL CODICE DI ANALISI PER IL FIT LINEARE\n",
    "#UTILIZZERO' IL METODO DEI MINIMI QUADRATI\n",
    "#SOSTANZIALMENTE PER VALUTARE IL VALORE CENTRALE A CUI TENDE IL VALORE MEDIO DELLE MEDIE DEI K FACCIO UN FIT LINEARE\n",
    "#PER UN PEZZO DI DATI VIA VIA SEMPRE PIU GRANDE.\n",
    "#DEFINISCO POI IL VALORE CENTRALE COME LA MEDIA PESATA DEI VALORI DI FIT DANDO PIU IMPORTANZA (QUADRATICO) AI DATI ULTIMI PIU VICINI\n",
    "#AL VALORE DA STIMARE\n",
    "import matplotlib.pyplot as plt\n",
    "%matplotlib inline\n",
    "from scipy.optimize import curve_fit\n",
    "#defining the fit function\n",
    "chi_values=[]\n",
    "medie=[]\n",
    "for ind in range(num_int):\n",
    "    def lin_function(x, a, b):\n",
    "        return b+a*x\n",
    "    lungh=len(arr[ind])\n",
    "    x=np.arange(0,lungh,1)\n",
    "    y=np.asarray(arr[ind])\n",
    "    pars, covm = curve_fit(lin_function, x, y)\n",
    "    chisq2 = ((y - lin_function(x, pars[0],pars[1]))**2).sum()\n",
    "    ndof = len(y)-1\n",
    "    chisq_norm=chisq2/ndof\n",
    "    #print(ind+1,chisq_norm,pars[0])\n",
    "    medie.append(pars[0]/(ind+1)**2)\n",
    "    y1=pars[1]+pars[0]*x\n",
    "    chi_values.append(chisq_norm)\n",
    "    #plt.figure(figsize=[12,8])\n",
    "    #plt.plot(x,y1,marker=\"\",color=\"red\",label=str(chisq_norm))\n",
    "    #plt.scatter(x,y,marker=\"o\",color=\"blue\",label='Data')\n",
    "    #plt.legend()\n",
    "plt.figure(figsize=[12,8])\n",
    "bins=10\n",
    "plt.scatter(np.linspace(1,len(chi_values),len(chi_values)),chi_values,marker=\"o\",color=\"blue\",label='Chi_values')\n",
    "plt.legend()\n",
    "plt.grid()\n",
    "media_di_fit=np.mean(medie)\n",
    "print(media_di_fit)"
   ]
  },
  {
   "cell_type": "code",
   "execution_count": 206,
   "id": "resident-process",
   "metadata": {},
   "outputs": [
    {
     "name": "stdout",
     "output_type": "stream",
     "text": [
      "29\n",
      "29\n",
      "-0.00033701149425285573\n"
     ]
    },
    {
     "data": {
      "image/png": "[encoded data removed]",
      "text/plain": [
       "<Figure size 720x360 with 1 Axes>"
      ]
     },
     "metadata": {
      "needs_background": "light"
     },
     "output_type": "display_data"
    }
   ],
   "source": [
    "#INIZIALIZZO IL CALCOLO DEI K E DEI K PESATI\n",
    "media_medie_k=[]\n",
    "for j in range(0,num_int_tot-1):\n",
    "    mezzo=int((len(mat[j])-1)/2)\n",
    "    x0=mat[j][mezzo]\n",
    "    temp=[]\n",
    "    for i in range(1,mezzo+1):\n",
    "        temp.append((mat[j][mezzo+i]-mat[j][mezzo-i]))\n",
    "    media_medie_k.append(np.mean(temp))\n",
    "        \n",
    "        \n",
    "import matplotlib.pyplot as plt \n",
    "%matplotlib inline\n",
    "print(len(media_k))\n",
    "nuova=[]\n",
    "for i in range(len(media_k)):\n",
    "    nuova.append(media_medie_k[i]*(i+1))\n",
    "bins=10\n",
    "plt.figure(figsize=(10,5))\n",
    "plt.hist(nuova,bins,density=False, histtype='bar', label='momento '+str(1))\n",
    "plt.legend()\n",
    "media_medie_k_pesati=np.mean(nuova)\n",
    "print(len(nuova))\n",
    "print(media_k_pesati)"
   ]
  },
  {
   "cell_type": "code",
   "execution_count": 207,
   "id": "timely-nothing",
   "metadata": {},
   "outputs": [
    {
     "name": "stdout",
     "output_type": "stream",
     "text": [
      "1.371897837816918\n",
      "[1.39286, 1.39277, 1.39308, 1.39286, 1.39296, 1.39303]\n",
      "Scende\n"
     ]
    }
   ],
   "source": [
    "#QUI STO: PRENDENDO LA MEDIA DELLE MEDIE DEI K PER OGNI INTERVALLO E STO VEDENDO QUANTO SI DISCOSTA DAL VALORE CENTRALE\n",
    "#CHE HO STIMATO ESSERE DEFINITO SECONDO UN ALGORITMO SPIEGATO SOPRA.\n",
    "#CALCOLO IL VALORE PREDETTO DI X_3 IMPONENDO IL VALORE CHE DOVREBBE AVERE AFFINCHE LA MEDIA DELLE MEDIE DEI K, COMPRESO DUNQUE\n",
    "#ANCHE L'ULTIMO INTERVALLO CHE CONTIENE IL VALORE DA STIMARE, SIA UGUALE AL VALORE CENTRALE DATO DAL FIT.\n",
    "lungheza=len(nuova)\n",
    "media_medie_k_pesati_updated=media_di_fit\n",
    "#media_medie_k_pesati_updated=(media_medie_k_pesati*lungheza+ultima_media)/lungheza+1\n",
    "#media_medie_k_pesati_updated*(lungheza+1)=media_medie_k_pesati*lungheza+ultima_media\n",
    "ultima_media=media_medie_k_pesati_updated*(lungheza+1)-media_medie_k_pesati*lungheza\n",
    "\n",
    "mezzo=int((len(mat[num_int_tot-1])-1)/2)\n",
    "k1=mat[num_int_tot-1][mezzo+1]-mat[num_int_tot-1][mezzo-1]\n",
    "k2=mat[num_int_tot-1][mezzo+2]-mat[num_int_tot-1][mezzo-2]\n",
    "k_3=(ultima_media*mezzo-2*k2-k1)/3\n",
    "x_meno3=mat[num_int_tot-1][2*mezzo]\n",
    "x_pred=k_3+x_meno3\n",
    "print(x_pred)\n",
    "print(mat[num_int_tot-1])\n",
    "if (x_pred>mat[num_int_tot-1][mezzo+2]): \n",
    "    print('Sale')\n",
    "else: print('Scende')"
   ]
  },
  {
   "cell_type": "code",
   "execution_count": null,
   "id": "macro-margin",
   "metadata": {},
   "outputs": [],
   "source": [
    "#ALTRO\n",
    "direzione=media_di_fit-media_medie_k_pesati\n",
    "print(direzione)\n",
    "#non so bene cosa\n",
    "mezzo=int((len(mat[num_int_tot-1])-1)/2)\n",
    "k1=mat[num_int_tot-1][mezzo+1]-mat[num_int_tot-1][mezzo-1]\n",
    "k2=mat[num_int_tot-1][mezzo+2]-mat[num_int_tot-1][mezzo-2]\n",
    "k_3=(media_medie_k_pesati*mezzo-2*k2-k1)/3\n",
    "x_meno3=mat[num_int_tot-1][2*mezzo]\n",
    "x_pred=k_3+x_meno3\n",
    "print(x_pred)"
   ]
  }
 ],
 "metadata": {
  "kernelspec": {
   "display_name": "Python 3",
   "language": "python",
   "name": "python3"
  },
  "language_info": {
   "codemirror_mode": {
    "name": "ipython",
    "version": 3
   },
   "file_extension": ".py",
   "mimetype": "text/x-python",
   "name": "python",
   "nbconvert_exporter": "python",
   "pygments_lexer": "ipython3",
   "version": "3.8.5"
  }
 },
 "nbformat": 4,
 "nbformat_minor": 5
}
